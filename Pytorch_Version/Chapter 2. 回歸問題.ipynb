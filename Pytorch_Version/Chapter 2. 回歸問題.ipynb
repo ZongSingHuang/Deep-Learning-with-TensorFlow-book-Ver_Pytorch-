{
 "cells": [
  {
   "cell_type": "code",
   "execution_count": 1,
   "metadata": {},
   "outputs": [],
   "source": [
    "import torch\n",
    "import numpy as np\n",
    "import matplotlib.pyplot as plt\n",
    "from sklearn.metrics import mean_squared_error"
   ]
  },
  {
   "cell_type": "markdown",
   "metadata": {},
   "source": [
    "### 2.3 線性模型實戰"
   ]
  },
  {
   "cell_type": "markdown",
   "metadata": {},
   "source": [
    "$$\n",
    "y\\,\\,=\\,\\,1.477x+0.089+\\epsilon \n",
    "\\\\\n",
    "\\epsilon =N\\left( 0, 0.01^2 \\right) \n",
    "\\\\\n",
    "x\\in U\\left( -10, 10 \\right) \n",
    "$$"
   ]
  },
  {
   "cell_type": "code",
   "execution_count": 2,
   "metadata": {},
   "outputs": [],
   "source": [
    "# 採樣數據\n",
    "x = np.random.uniform(low=-10, high=10, size=100)\n",
    "e = np.random.normal(loc=0, scale=0.01**2, size=100)\n",
    "y = 1.477*x + 0.089 + e\n",
    "\n",
    "data = np.vstack([x, y]).T"
   ]
  },
  {
   "cell_type": "code",
   "execution_count": 3,
   "metadata": {},
   "outputs": [],
   "source": [
    "# 計算誤差\n",
    "def mse(b, w, data):\n",
    "    y_true = data[:, 1]\n",
    "    y_pred = w*data[:, 0] + b\n",
    "    return mean_squared_error(y_pred, y_true)"
   ]
  },
  {
   "cell_type": "code",
   "execution_count": 4,
   "metadata": {},
   "outputs": [],
   "source": [
    "def step_gradient(now_b, now_w, data, lr):\n",
    "    feature = data[:, 0]\n",
    "    y_true = data[:, 1]\n",
    "    \n",
    "    dL_db = np.mean( 2*( (now_w*feature + now_b) - y_true ) )# (2.3)\n",
    "    dL_dw = np.mean( 2 * feature * ( (now_w*feature + now_b) - y_true ) )# (2.2)\n",
    "    \n",
    "    new_b = now_b - (lr * dL_db)# (2.1) \n",
    "    new_w = now_w - (lr * dL_dw)# (2.1)\n",
    "    \n",
    "    return new_b, new_w"
   ]
  },
  {
   "cell_type": "code",
   "execution_count": 5,
   "metadata": {},
   "outputs": [],
   "source": [
    "def gradient_descent(data, init_b, init_w, lr, num_epoch):\n",
    "    b = init_b\n",
    "    w = init_w\n",
    "    \n",
    "    for epoch in range(num_epoch):\n",
    "        b, w = step_gradient(b, w, data, lr)\n",
    "        loss = mse(b, w, data)\n",
    "        history[epoch] = loss\n",
    "        if epoch%50==0:\n",
    "            print(\"iteration:{epoch}, loss:{loss:.2f}, w:{w:.2f}, b:{b:.2f}\".format(epoch=epoch, loss=loss, w=w, b=b))\n",
    "        \n",
    "    return b, w"
   ]
  },
  {
   "cell_type": "code",
   "execution_count": 6,
   "metadata": {},
   "outputs": [
    {
     "name": "stdout",
     "output_type": "stream",
     "text": [
      "iteration:0, loss:5.81, w:1.08, b:0.01\n",
      "iteration:50, loss:0.00, w:1.48, b:0.06\n",
      "iteration:100, loss:0.00, w:1.48, b:0.08\n",
      "iteration:150, loss:0.00, w:1.48, b:0.09\n",
      "iteration:200, loss:0.00, w:1.48, b:0.09\n",
      "iteration:250, loss:0.00, w:1.48, b:0.09\n",
      "iteration:300, loss:0.00, w:1.48, b:0.09\n",
      "iteration:350, loss:0.00, w:1.48, b:0.09\n",
      "iteration:400, loss:0.00, w:1.48, b:0.09\n",
      "iteration:450, loss:0.00, w:1.48, b:0.09\n",
      "iteration:500, loss:0.00, w:1.48, b:0.09\n",
      "iteration:550, loss:0.00, w:1.48, b:0.09\n",
      "iteration:600, loss:0.00, w:1.48, b:0.09\n",
      "iteration:650, loss:0.00, w:1.48, b:0.09\n",
      "iteration:700, loss:0.00, w:1.48, b:0.09\n",
      "iteration:750, loss:0.00, w:1.48, b:0.09\n",
      "iteration:800, loss:0.00, w:1.48, b:0.09\n",
      "iteration:850, loss:0.00, w:1.48, b:0.09\n",
      "iteration:900, loss:0.00, w:1.48, b:0.09\n",
      "iteration:950, loss:0.00, w:1.48, b:0.09\n"
     ]
    }
   ],
   "source": [
    "lr = 0.01\n",
    "init_b = 0\n",
    "init_w = 0.0\n",
    "num_epoch = 1000\n",
    "history = np.zeros(num_epoch)\n",
    "\n",
    "b, w = gradient_descent(data, init_b, init_w, lr, num_epoch)"
   ]
  },
  {
   "cell_type": "code",
   "execution_count": 7,
   "metadata": {},
   "outputs": [
    {
     "data": {
      "image/png": "[encoded data removed]",
      "text/plain": [
       "<Figure size 432x288 with 1 Axes>"
      ]
     },
     "metadata": {
      "needs_background": "light"
     },
     "output_type": "display_data"
    }
   ],
   "source": [
    "plt.figure(0)\n",
    "plt.plot(history, label='loss')\n",
    "plt.legend()\n",
    "plt.grid()\n",
    "plt.xlabel('epoch')\n",
    "plt.ylabel('loss(mse)')\n",
    "plt.show()"
   ]
  },
  {
   "cell_type": "code",
   "execution_count": null,
   "metadata": {},
   "outputs": [],
   "source": []
  }
 ],
 "metadata": {
  "kernelspec": {
   "display_name": "Python 3",
   "language": "python",
   "name": "python3"
  },
  "language_info": {
   "codemirror_mode": {
    "name": "ipython",
    "version": 3
   },
   "file_extension": ".py",
   "mimetype": "text/x-python",
   "name": "python",
   "nbconvert_exporter": "python",
   "pygments_lexer": "ipython3",
   "version": "3.7.9"
  }
 },
 "nbformat": 4,
 "nbformat_minor": 4
}
