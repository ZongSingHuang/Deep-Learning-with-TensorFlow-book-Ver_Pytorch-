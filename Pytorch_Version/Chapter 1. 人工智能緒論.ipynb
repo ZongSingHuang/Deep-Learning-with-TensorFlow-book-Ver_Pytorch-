{
 "cells": [
  {
   "cell_type": "code",
   "execution_count": 1,
   "metadata": {},
   "outputs": [],
   "source": [
    "import torch\n",
    "import numpy as np\n",
    "import time\n",
    "import matplotlib.pyplot as plt"
   ]
  },
  {
   "cell_type": "markdown",
   "metadata": {},
   "source": [
    "### 1.5.2 動態圖"
   ]
  },
  {
   "cell_type": "markdown",
   "metadata": {},
   "source": [
    "### 自訂推定類型"
   ]
  },
  {
   "cell_type": "code",
   "execution_count": 2,
   "metadata": {},
   "outputs": [
    {
     "name": "stdout",
     "output_type": "stream",
     "text": [
      "a+b = tensor([6.])\n"
     ]
    }
   ],
   "source": [
    "a = torch.tensor([2.])\n",
    "b = torch.tensor([4.])\n",
    "\n",
    "print('a+b =', a+b)"
   ]
  },
  {
   "cell_type": "markdown",
   "metadata": {},
   "source": [
    "### 1.5.3 加速運算"
   ]
  },
  {
   "cell_type": "code",
   "execution_count": 3,
   "metadata": {},
   "outputs": [
    {
     "name": "stdout",
     "output_type": "stream",
     "text": [
      "Numpy\n",
      "n=1, cost=0.0sec\n",
      "n=10, cost=0.0sec\n",
      "n=100, cost=0.0sec\n",
      "n=1000, cost=0.0sec\n",
      "n=10000, cost=0.0sec\n",
      "n=100000, cost=0.01sec\n",
      "n=1000000, cost=0.06sec\n",
      "n=10000000, cost=0.48sec\n",
      "n=100000000, cost=4.62sec\n",
      "[0.   0.   0.   0.   0.   0.01 0.06 0.48 4.62]\n"
     ]
    }
   ],
   "source": [
    "print('Numpy')\n",
    "numpy_cost = np.zeros(9)\n",
    "\n",
    "for i in range(9):\n",
    "    n = 10**i\n",
    "    start = time.time()\n",
    "    for j in range(10):\n",
    "        numpy_a = np.random.normal(size=[1, n])\n",
    "        numpy_b = np.random.normal(size=[n, 1])\n",
    "        c = np.matmul(numpy_a, numpy_b)\n",
    "    numpy_cost[i] = round((time.time() - start)/10, 2)\n",
    "    print('n={0}, cost={1}sec'.format(n, numpy_cost[i]))\n",
    "\n",
    "print(numpy_cost)"
   ]
  },
  {
   "cell_type": "code",
   "execution_count": 4,
   "metadata": {},
   "outputs": [
    {
     "name": "stdout",
     "output_type": "stream",
     "text": [
      "CPU\n",
      "n=1, cost=0.0sec\n",
      "n=10, cost=0.0sec\n",
      "n=100, cost=0.0sec\n",
      "n=1000, cost=0.0sec\n",
      "n=10000, cost=0.0sec\n",
      "n=100000, cost=0.0sec\n",
      "n=1000000, cost=0.02sec\n",
      "n=10000000, cost=0.19sec\n",
      "n=100000000, cost=1.68sec\n",
      "[0.   0.   0.   0.   0.   0.   0.02 0.19 1.68]\n"
     ]
    }
   ],
   "source": [
    "print('CPU')\n",
    "cpu_cost = np.zeros(9)\n",
    "\n",
    "for i in range(9):\n",
    "    n = 10**i\n",
    "    start = time.time()\n",
    "    for j in range(10):\n",
    "        cpu_a = torch.randn(size=[1, n])\n",
    "        cpu_b = torch.randn(size=[n, 1])\n",
    "        c = torch.matmul(cpu_a, cpu_b)\n",
    "    cpu_cost[i] = round((time.time() - start)/10, 2)\n",
    "    print('n={0}, cost={1}sec'.format(n, cpu_cost[i]))\n",
    "\n",
    "print(cpu_cost)"
   ]
  },
  {
   "cell_type": "code",
   "execution_count": 5,
   "metadata": {
    "scrolled": true
   },
   "outputs": [
    {
     "name": "stdout",
     "output_type": "stream",
     "text": [
      "GPU\n",
      "n=1, cost=0.0sec\n",
      "n=10, cost=0.0sec\n",
      "n=100, cost=0.0sec\n",
      "n=1000, cost=0.0sec\n",
      "n=10000, cost=0.0sec\n",
      "n=100000, cost=0.0sec\n",
      "n=1000000, cost=0.02sec\n",
      "n=10000000, cost=0.19sec\n",
      "n=100000000, cost=1.68sec\n",
      "[0.13 0.   0.   0.   0.   0.   0.01 0.13 1.3 ]\n"
     ]
    }
   ],
   "source": [
    "print('GPU')\n",
    "gpu_cost = np.zeros(9)\n",
    "\n",
    "for i in range(9):\n",
    "    n = 10**i\n",
    "    start = time.time()\n",
    "    for j in range(10):\n",
    "        gpu_a = torch.randn(size=[1, n]).cuda()\n",
    "        gpu_b = torch.randn(size=[n, 1]).cuda()\n",
    "        c = torch.matmul(gpu_a, gpu_b)\n",
    "    gpu_cost[i] = round((time.time() - start)/10, 2)\n",
    "    print('n={0}, cost={1}sec'.format(n, cpu_cost[i]))\n",
    "    \n",
    "print(gpu_cost)"
   ]
  },
  {
   "cell_type": "code",
   "execution_count": 6,
   "metadata": {},
   "outputs": [
    {
     "data": {
      "text/plain": [
       "Text(0, 0.5, 'Avg cost(sec)')"
      ]
     },
     "execution_count": 6,
     "metadata": {},
     "output_type": "execute_result"
    },
    {
     "data": {
      "image/png": "[encoded data removed]",
      "text/plain": [
       "<Figure size 1152x576 with 1 Axes>"
      ]
     },
     "metadata": {
      "needs_background": "light"
     },
     "output_type": "display_data"
    }
   ],
   "source": [
    "xlabel = np.arange(9)\n",
    "plt.figure(0, figsize=(16, 8))\n",
    "plt.bar(xlabel, numpy_cost, width=0.3, label='Numpy')\n",
    "plt.bar(xlabel+0.3, cpu_cost, width=0.3, label='CPU')\n",
    "plt.bar(xlabel+0.6, gpu_cost, width=0.3, label='GPU')\n",
    "plt.legend()\n",
    "plt.grid()\n",
    "plt.xlabel('n')\n",
    "plt.ylabel('Avg cost(sec)')"
   ]
  },
  {
   "cell_type": "markdown",
   "metadata": {},
   "source": [
    "### 1.5.3 自動梯度"
   ]
  },
  {
   "cell_type": "markdown",
   "metadata": {},
   "source": [
    "$$\n",
    "y=w^2+2w+3\n",
    "\\\\\n",
    "\\frac{\\partial y}{\\partial w}=2w+2\\left| w=4 \\right. \n",
    "$$\n"
   ]
  },
  {
   "cell_type": "code",
   "execution_count": 7,
   "metadata": {},
   "outputs": [
    {
     "name": "stdout",
     "output_type": "stream",
     "text": [
      "tensor([10.])\n"
     ]
    }
   ],
   "source": [
    "w = torch.tensor([4.0], requires_grad=True)\n",
    "a = 1.0\n",
    "b = 2.0\n",
    "c = 3.0\n",
    "y = a*w**2 + b*w + c\n",
    "\n",
    "y.backward()\n",
    "dy_dw = w.grad\n",
    "print(dy_dw)"
   ]
  },
  {
   "cell_type": "code",
   "execution_count": null,
   "metadata": {},
   "outputs": [],
   "source": []
  }
 ],
 "metadata": {
  "kernelspec": {
   "display_name": "Python 3",
   "language": "python",
   "name": "python3"
  },
  "language_info": {
   "codemirror_mode": {
    "name": "ipython",
    "version": 3
   },
   "file_extension": ".py",
   "mimetype": "text/x-python",
   "name": "python",
   "nbconvert_exporter": "python",
   "pygments_lexer": "ipython3",
   "version": "3.7.9"
  }
 },
 "nbformat": 4,
 "nbformat_minor": 4
}
