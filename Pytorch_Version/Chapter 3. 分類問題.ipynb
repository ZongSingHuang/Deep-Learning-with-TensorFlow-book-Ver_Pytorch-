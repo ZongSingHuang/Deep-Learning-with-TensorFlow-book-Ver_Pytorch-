{
 "cells": [
  {
   "cell_type": "code",
   "execution_count": 1,
   "metadata": {},
   "outputs": [],
   "source": [
    "import torch\n",
    "import numpy as np\n",
    "import matplotlib.pyplot as plt\n",
    "from torchvision.datasets import MNIST\n",
    "import torchvision.transforms as transforms\n",
    "from torch.utils.data import DataLoader\n",
    "import torch.nn as nn"
   ]
  },
  {
   "cell_type": "markdown",
   "metadata": {},
   "source": [
    "### 3.1 手寫數字圖片數據集"
   ]
  },
  {
   "cell_type": "code",
   "execution_count": 2,
   "metadata": {},
   "outputs": [],
   "source": [
    "# ToTensor():[0, 255]=>[0, 1]\n",
    "# Normalize(0.5, 0.5):=>[0, 1]=>[-1, 1]\n",
    "# 因為MNIST為黑白，所以所以縮放至[-1, 1]只需如下；若為RGB則mean=(0.5, 0.5, 0.5), std=(0.5, 0.5, 0.5)\n",
    "transform = transforms.Compose([transforms.ToTensor(), transforms.Normalize(mean=(0.5,), std=(0.5,))])\n",
    "\n",
    "train_dataset = MNIST(\"data\", download=True, train=True, transform=transform)\n",
    "test_dataset = MNIST(\"data\", download=True, train=False, transform=transform)\n",
    "\n",
    "train_loader = DataLoader(train_dataset, batch_size=512, shuffle=True, num_workers=0)\n",
    "test_loader = DataLoader(test_dataset, batch_size=512, shuffle=True, num_workers=0)"
   ]
  },
  {
   "cell_type": "code",
   "execution_count": 3,
   "metadata": {},
   "outputs": [
    {
     "name": "stdout",
     "output_type": "stream",
     "text": [
      "60000 10000\n"
     ]
    }
   ],
   "source": [
    "print(len(train_dataset), len(test_dataset))"
   ]
  },
  {
   "cell_type": "code",
   "execution_count": 4,
   "metadata": {},
   "outputs": [
    {
     "name": "stdout",
     "output_type": "stream",
     "text": [
      "torch.Size([1, 28, 28]) 5\n"
     ]
    }
   ],
   "source": [
    "print(train_dataset[0][0].shape, train_dataset[0][1])"
   ]
  },
  {
   "cell_type": "code",
   "execution_count": 5,
   "metadata": {},
   "outputs": [
    {
     "name": "stdout",
     "output_type": "stream",
     "text": [
      "512 512\n"
     ]
    }
   ],
   "source": [
    "dataiter = iter(train_loader)\n",
    "images, labels = dataiter.next()\n",
    "print(len(images), len(labels))"
   ]
  },
  {
   "cell_type": "code",
   "execution_count": 6,
   "metadata": {},
   "outputs": [],
   "source": [
    "class FFNN(nn.Module):\n",
    "    def __init__(self, input_size, num_classes):\n",
    "        super(FFNN, self).__init__()\n",
    "        self.fc1 = nn.Linear(input_size, 256)\n",
    "        self.fc2 = nn.Linear(256, 128)\n",
    "        self.fc3 = nn.Linear(128, 10)\n",
    "        self.relu = nn.ReLU()\n",
    "        \n",
    "\n",
    "    def forward(self, x):\n",
    "        # layer1\n",
    "        out = self.fc1(x)\n",
    "        out = self.relu(out)\n",
    "        # layer2\n",
    "        out = self.fc2(out)\n",
    "        out = self.relu(out)\n",
    "        # layer3\n",
    "        out = self.fc3(out)\n",
    "        \n",
    "        return out\n",
    "\n",
    "model = FFNN(input_size=28*28, num_classes=10)"
   ]
  },
  {
   "cell_type": "code",
   "execution_count": 7,
   "metadata": {},
   "outputs": [],
   "source": [
    "criterion = nn.MSELoss()"
   ]
  },
  {
   "cell_type": "code",
   "execution_count": 8,
   "metadata": {},
   "outputs": [],
   "source": [
    "lr = 0.001\n",
    "optimizer = torch.optim.SGD(model.parameters(), lr=lr)"
   ]
  },
  {
   "cell_type": "code",
   "execution_count": 9,
   "metadata": {},
   "outputs": [
    {
     "name": "stdout",
     "output_type": "stream",
     "text": [
      "[step = 30] loss: 0.107\n",
      "[step = 60] loss: 0.106\n",
      "[step = 90] loss: 0.104\n",
      "EPOCH = 1, loss = 0.103\n",
      "========================\n",
      "[step = 30] loss: 0.098\n",
      "[step = 60] loss: 0.098\n",
      "[step = 90] loss: 0.097\n",
      "EPOCH = 2, loss = 0.096\n",
      "========================\n",
      "[step = 30] loss: 0.094\n",
      "[step = 60] loss: 0.093\n",
      "[step = 90] loss: 0.093\n",
      "EPOCH = 3, loss = 0.093\n",
      "========================\n",
      "[step = 30] loss: 0.091\n",
      "[step = 60] loss: 0.091\n",
      "[step = 90] loss: 0.091\n",
      "EPOCH = 4, loss = 0.091\n",
      "========================\n",
      "[step = 30] loss: 0.090\n",
      "[step = 60] loss: 0.090\n",
      "[step = 90] loss: 0.089\n",
      "EPOCH = 5, loss = 0.089\n",
      "========================\n",
      "[step = 30] loss: 0.088\n",
      "[step = 60] loss: 0.088\n",
      "[step = 90] loss: 0.088\n",
      "EPOCH = 6, loss = 0.088\n",
      "========================\n",
      "[step = 30] loss: 0.088\n",
      "[step = 60] loss: 0.087\n",
      "[step = 90] loss: 0.087\n",
      "EPOCH = 7, loss = 0.087\n",
      "========================\n",
      "[step = 30] loss: 0.087\n",
      "[step = 60] loss: 0.087\n",
      "[step = 90] loss: 0.087\n",
      "EPOCH = 8, loss = 0.086\n",
      "========================\n",
      "[step = 30] loss: 0.086\n",
      "[step = 60] loss: 0.086\n",
      "[step = 90] loss: 0.086\n",
      "EPOCH = 9, loss = 0.086\n",
      "========================\n",
      "[step = 30] loss: 0.085\n",
      "[step = 60] loss: 0.085\n",
      "[step = 90] loss: 0.085\n",
      "EPOCH = 10, loss = 0.085\n",
      "========================\n",
      "[step = 30] loss: 0.085\n",
      "[step = 60] loss: 0.084\n",
      "[step = 90] loss: 0.084\n",
      "EPOCH = 11, loss = 0.084\n",
      "========================\n",
      "[step = 30] loss: 0.084\n",
      "[step = 60] loss: 0.084\n",
      "[step = 90] loss: 0.084\n",
      "EPOCH = 12, loss = 0.084\n",
      "========================\n",
      "[step = 30] loss: 0.083\n",
      "[step = 60] loss: 0.083\n",
      "[step = 90] loss: 0.083\n",
      "EPOCH = 13, loss = 0.083\n",
      "========================\n",
      "[step = 30] loss: 0.083\n",
      "[step = 60] loss: 0.083\n",
      "[step = 90] loss: 0.082\n",
      "EPOCH = 14, loss = 0.082\n",
      "========================\n",
      "[step = 30] loss: 0.082\n",
      "[step = 60] loss: 0.082\n",
      "[step = 90] loss: 0.082\n",
      "EPOCH = 15, loss = 0.082\n",
      "========================\n",
      "[step = 30] loss: 0.081\n",
      "[step = 60] loss: 0.081\n",
      "[step = 90] loss: 0.081\n",
      "EPOCH = 16, loss = 0.081\n",
      "========================\n",
      "[step = 30] loss: 0.081\n",
      "[step = 60] loss: 0.081\n",
      "[step = 90] loss: 0.081\n",
      "EPOCH = 17, loss = 0.081\n",
      "========================\n",
      "[step = 30] loss: 0.080\n",
      "[step = 60] loss: 0.080\n",
      "[step = 90] loss: 0.080\n",
      "EPOCH = 18, loss = 0.080\n",
      "========================\n",
      "[step = 30] loss: 0.080\n",
      "[step = 60] loss: 0.080\n",
      "[step = 90] loss: 0.080\n",
      "EPOCH = 19, loss = 0.079\n",
      "========================\n",
      "[step = 30] loss: 0.079\n",
      "[step = 60] loss: 0.079\n",
      "[step = 90] loss: 0.079\n",
      "EPOCH = 20, loss = 0.079\n",
      "========================\n",
      "[step = 30] loss: 0.079\n",
      "[step = 60] loss: 0.079\n",
      "[step = 90] loss: 0.078\n",
      "EPOCH = 21, loss = 0.078\n",
      "========================\n",
      "[step = 30] loss: 0.078\n",
      "[step = 60] loss: 0.078\n",
      "[step = 90] loss: 0.078\n",
      "EPOCH = 22, loss = 0.078\n",
      "========================\n",
      "[step = 30] loss: 0.077\n",
      "[step = 60] loss: 0.078\n",
      "[step = 90] loss: 0.077\n",
      "EPOCH = 23, loss = 0.077\n",
      "========================\n",
      "[step = 30] loss: 0.077\n",
      "[step = 60] loss: 0.077\n",
      "[step = 90] loss: 0.077\n",
      "EPOCH = 24, loss = 0.077\n",
      "========================\n",
      "[step = 30] loss: 0.076\n",
      "[step = 60] loss: 0.076\n",
      "[step = 90] loss: 0.076\n",
      "EPOCH = 25, loss = 0.076\n",
      "========================\n",
      "[step = 30] loss: 0.076\n",
      "[step = 60] loss: 0.076\n",
      "[step = 90] loss: 0.076\n",
      "EPOCH = 26, loss = 0.076\n",
      "========================\n",
      "[step = 30] loss: 0.076\n",
      "[step = 60] loss: 0.075\n",
      "[step = 90] loss: 0.075\n",
      "EPOCH = 27, loss = 0.075\n",
      "========================\n",
      "[step = 30] loss: 0.075\n",
      "[step = 60] loss: 0.075\n",
      "[step = 90] loss: 0.075\n",
      "EPOCH = 28, loss = 0.075\n",
      "========================\n",
      "[step = 30] loss: 0.074\n",
      "[step = 60] loss: 0.074\n",
      "[step = 90] loss: 0.074\n",
      "EPOCH = 29, loss = 0.074\n",
      "========================\n",
      "[step = 30] loss: 0.074\n",
      "[step = 60] loss: 0.074\n",
      "[step = 90] loss: 0.074\n",
      "EPOCH = 30, loss = 0.074\n",
      "========================\n",
      "[step = 30] loss: 0.074\n",
      "[step = 60] loss: 0.073\n",
      "[step = 90] loss: 0.073\n",
      "EPOCH = 31, loss = 0.073\n",
      "========================\n",
      "[step = 30] loss: 0.073\n",
      "[step = 60] loss: 0.073\n",
      "[step = 90] loss: 0.073\n",
      "EPOCH = 32, loss = 0.073\n",
      "========================\n",
      "[step = 30] loss: 0.073\n",
      "[step = 60] loss: 0.073\n",
      "[step = 90] loss: 0.072\n",
      "EPOCH = 33, loss = 0.072\n",
      "========================\n",
      "[step = 30] loss: 0.072\n",
      "[step = 60] loss: 0.072\n",
      "[step = 90] loss: 0.072\n",
      "EPOCH = 34, loss = 0.072\n",
      "========================\n",
      "[step = 30] loss: 0.072\n",
      "[step = 60] loss: 0.072\n",
      "[step = 90] loss: 0.072\n",
      "EPOCH = 35, loss = 0.071\n",
      "========================\n",
      "[step = 30] loss: 0.071\n",
      "[step = 60] loss: 0.071\n",
      "[step = 90] loss: 0.071\n",
      "EPOCH = 36, loss = 0.071\n",
      "========================\n",
      "[step = 30] loss: 0.070\n",
      "[step = 60] loss: 0.071\n",
      "[step = 90] loss: 0.071\n",
      "EPOCH = 37, loss = 0.071\n",
      "========================\n",
      "[step = 30] loss: 0.070\n",
      "[step = 60] loss: 0.070\n",
      "[step = 90] loss: 0.070\n",
      "EPOCH = 38, loss = 0.070\n",
      "========================\n",
      "[step = 30] loss: 0.070\n",
      "[step = 60] loss: 0.070\n",
      "[step = 90] loss: 0.070\n",
      "EPOCH = 39, loss = 0.070\n",
      "========================\n",
      "[step = 30] loss: 0.069\n",
      "[step = 60] loss: 0.069\n",
      "[step = 90] loss: 0.069\n",
      "EPOCH = 40, loss = 0.069\n",
      "========================\n",
      "[step = 30] loss: 0.069\n",
      "[step = 60] loss: 0.069\n",
      "[step = 90] loss: 0.069\n",
      "EPOCH = 41, loss = 0.069\n",
      "========================\n",
      "[step = 30] loss: 0.069\n",
      "[step = 60] loss: 0.069\n",
      "[step = 90] loss: 0.068\n",
      "EPOCH = 42, loss = 0.068\n",
      "========================\n",
      "[step = 30] loss: 0.068\n",
      "[step = 60] loss: 0.068\n",
      "[step = 90] loss: 0.068\n",
      "EPOCH = 43, loss = 0.068\n",
      "========================\n",
      "[step = 30] loss: 0.068\n",
      "[step = 60] loss: 0.068\n",
      "[step = 90] loss: 0.068\n",
      "EPOCH = 44, loss = 0.068\n",
      "========================\n",
      "[step = 30] loss: 0.067\n",
      "[step = 60] loss: 0.067\n",
      "[step = 90] loss: 0.067\n",
      "EPOCH = 45, loss = 0.067\n",
      "========================\n",
      "[step = 30] loss: 0.067\n",
      "[step = 60] loss: 0.067\n",
      "[step = 90] loss: 0.067\n",
      "EPOCH = 46, loss = 0.067\n",
      "========================\n",
      "[step = 30] loss: 0.066\n",
      "[step = 60] loss: 0.066\n",
      "[step = 90] loss: 0.066\n",
      "EPOCH = 47, loss = 0.066\n",
      "========================\n",
      "[step = 30] loss: 0.066\n",
      "[step = 60] loss: 0.066\n",
      "[step = 90] loss: 0.066\n",
      "EPOCH = 48, loss = 0.066\n",
      "========================\n",
      "[step = 30] loss: 0.066\n",
      "[step = 60] loss: 0.066\n",
      "[step = 90] loss: 0.066\n",
      "EPOCH = 49, loss = 0.066\n",
      "========================\n",
      "[step = 30] loss: 0.065\n",
      "[step = 60] loss: 0.065\n",
      "[step = 90] loss: 0.065\n",
      "EPOCH = 50, loss = 0.065\n",
      "========================\n"
     ]
    }
   ],
   "source": [
    "num_epoch = 50\n",
    "history = np.zeros(num_epoch)\n",
    "\n",
    "for epoch in range(num_epoch):\n",
    "    loss_sum = 0\n",
    "    \n",
    "    for step, (images, labels) in enumerate(train_loader, 1):  \n",
    "        images = images.reshape(-1, 28*28)\n",
    "        labels = torch.nn.functional.one_hot(labels).float()\n",
    "        \n",
    "        outputs = model(images)\n",
    "        loss = criterion(outputs, labels)\n",
    "        \n",
    "        optimizer.zero_grad()\n",
    "        loss.backward()\n",
    "        optimizer.step()\n",
    "        \n",
    "        loss_sum += loss.item()\n",
    "        \n",
    "        if step%30 == 0:\n",
    "            print(\"[step = {step}] loss: {loss:.3f}\".format(step=step, loss=loss_sum/step))\n",
    "    print(\"EPOCH = {epoch}, loss = {loss:.3f}\".format(epoch=epoch+1, loss=loss_sum/step))\n",
    "    print('='*24)\n",
    "    history[epoch] = loss_sum/step"
   ]
  },
  {
   "cell_type": "code",
   "execution_count": 10,
   "metadata": {},
   "outputs": [
    {
     "data": {
      "image/png": "[encoded data removed]",
      "text/plain": [
       "<Figure size 432x288 with 1 Axes>"
      ]
     },
     "metadata": {
      "needs_background": "light"
     },
     "output_type": "display_data"
    }
   ],
   "source": [
    "plt.figure(0)\n",
    "plt.plot(history, label='loss')\n",
    "plt.legend()\n",
    "plt.grid()\n",
    "plt.xlabel('epoch')\n",
    "plt.ylabel('loss(mse)')\n",
    "plt.show()"
   ]
  },
  {
   "cell_type": "markdown",
   "metadata": {},
   "source": [
    "### 參考資料"
   ]
  },
  {
   "cell_type": "markdown",
   "metadata": {},
   "source": [
    "https://discuss.pytorch.org/t/runtimeerror-expected-dtype-float-but-got-dtype-long-for-my-loss-function-despite-converting-all-tensors-to-float/87185"
   ]
  },
  {
   "cell_type": "markdown",
   "metadata": {},
   "source": [
    "https://discuss.pytorch.org/t/pytocrh-way-for-one-hot-encoding-multiclass-target-variable/68321"
   ]
  },
  {
   "cell_type": "code",
   "execution_count": null,
   "metadata": {},
   "outputs": [],
   "source": []
  }
 ],
 "metadata": {
  "kernelspec": {
   "display_name": "Python 3",
   "language": "python",
   "name": "python3"
  },
  "language_info": {
   "codemirror_mode": {
    "name": "ipython",
    "version": 3
   },
   "file_extension": ".py",
   "mimetype": "text/x-python",
   "name": "python",
   "nbconvert_exporter": "python",
   "pygments_lexer": "ipython3",
   "version": "3.7.9"
  }
 },
 "nbformat": 4,
 "nbformat_minor": 4
}
